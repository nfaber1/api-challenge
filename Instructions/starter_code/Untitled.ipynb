{
 "cells": [
  {
   "cell_type": "code",
   "execution_count": 29,
   "metadata": {},
   "outputs": [],
   "source": [
    "import matplotlib.pyplot as plt\n",
    "import pandas as pd\n",
    "import numpy as np\n",
    "import requests\n",
    "import time\n",
    "import pprint\n",
    "from scipy.stats import linregress"
   ]
  },
  {
   "cell_type": "code",
   "execution_count": 30,
   "metadata": {},
   "outputs": [],
   "source": [
    "from api_keys import weather_api_key"
   ]
  },
  {
   "cell_type": "code",
   "execution_count": 31,
   "metadata": {
    "scrolled": true
   },
   "outputs": [],
   "source": [
    "from citipy import citipy"
   ]
  },
  {
   "cell_type": "code",
   "execution_count": 32,
   "metadata": {},
   "outputs": [],
   "source": [
    "output_data_file = \"output_data/cities.csv\""
   ]
  },
  {
   "cell_type": "code",
   "execution_count": 53,
   "metadata": {},
   "outputs": [],
   "source": [
    "lat_range = (-85, 80)\n",
    "lng_range = (-60, 90)"
   ]
  },
  {
   "cell_type": "code",
   "execution_count": 54,
   "metadata": {},
   "outputs": [
    {
     "data": {
      "text/plain": [
       "611"
      ]
     },
     "execution_count": 54,
     "metadata": {},
     "output_type": "execute_result"
    }
   ],
   "source": [
    "# List for holding lat_lngs and cities\n",
    "lat_lngs = []\n",
    "cities = []\n",
    "\n",
    "# Create a set of random lat and lng combinations\n",
    "lats = np.random.uniform(lat_range[0], lat_range[1], size=1500)\n",
    "lngs = np.random.uniform(lng_range[0], lng_range[1], size=1500)\n",
    "lat_lngs = zip(lats, lngs)\n",
    "\n",
    "# Identify nearest city for each lat, lng combination\n",
    "for lat_lng in lat_lngs:\n",
    "    city = citipy.nearest_city(lat_lng[0], lat_lng[1]).city_name\n",
    "    \n",
    "    # If the city is unique, then add it to a our cities list\n",
    "    if city not in cities:\n",
    "        cities.append(city)\n",
    "\n",
    "# Print the city count to confirm sufficient count\n",
    "len(cities)"
   ]
  },
  {
   "cell_type": "code",
   "execution_count": 55,
   "metadata": {
    "scrolled": true
   },
   "outputs": [
    {
     "name": "stdout",
     "output_type": "stream",
     "text": [
      "Begin Data Retrieval\n",
      "------------------------\n",
      "['tsihombe', 'bad sachsa', 'korla', 'ushuaia', 'taoudenni', 'souillac', 'tasiilaq', 'acarau', 'mumford', 'torres', 'novobelokatay', 'oksfjord', 'victoria', 'tambura', 'nampula', 'hermanus', 'amderma', 'galle', 'ribeira grande', 'hithadhoo', 'mkushi', 'darnah', 'ponta do sol', 'bredasdorp', 'lodja', 'finale ligure', 'the valley', 'dawlatabad', 'port alfred', 'namibe', 'grand river south east', 'faya', 'jalu', 'bambous virieux', 'ostrovnoy', 'touros', 'barawe', 'port elizabeth', 'foz', 'madinat sittah uktubar', 'kuryk', 'jalingo', 'iaciara', 'gambela', 'busselton', 'charyshskoye', 'tessalit', 'san vicente', 'glace bay', 'mezen', 'aripuana', 'bolungarvik', 'dingle', 'kjollefjord', 'georgetown', 'laguna', 'cayenne', 'warqla', 'cape town', 'beyneu', 'almeirim', 'katiola', 'balad', 'itarema', 'onega', 'caravelas', 'joao pinheiro', 'roald', 'codrington', 'padang', 'saldanha', 'jamestown', 'upernavik', 'carros', 'kafr sawm', 'sao miguel do tapuio', 'umm kaddadah', 'vasterhaninge', 'mahon', 'grindavik', 'solovetskiy', 'sao filipe', 'dmitriyevka', 'yar-sale', 'ahmadpur', 'saint-philippe', 'veraval', 'ilulissat', 'radstadt', 'kalmunai', 'marystown', 'kuytun', 'east london', 'keti bandar', 'richards bay', 'olafsvik', 'sorvag', 'bathsheba', 'taolanaro', 'saint-joseph', 'vardo', 'nurobod', 'cidreira', 'verkhnyaya toyma', 'krasnoselkup', 'bengkulu', 'pontes e lacerda', 'obigarm', 'aksarka', 'klaksvik', 'doha', 'verkhnyaya inta', 'ornskoldsvik', 'mogadishu', 'alekseyevka', 'chakrata', 'quatre cocos', 'atar', 'bonavista', 'mar del plata', 'lahij', 'teguise', 'nara', 'salalah', 'torbay', 'kasimov', 'davlekanovo', 'manturovo', 'rio grande', 'vila franca do campo', 'mangai', 'staraya kulatka', 'harper', 'praia da vitoria', 'bremerhaven', 'arraial do cabo', 'santarem', 'lagoa', 'port-de-bouc', 'mezhdurechenskiy', 'nizwa', 'carnarvon', 'kinshasa', 'trairi', 'beloha', 'kholmogory', 'eenhana', 'sorland', 'conceicao da barra', 'turukhansk', 'barra dos coqueiros', 'adrar', 'ibra', 'karkaralinsk', 'awjilah', 'xuddur', 'henties bay', 'dianopolis', 'belushya guba', 'hirtshals', 'camacha', 'yuryuzan', 'nizhniy chir', 'rehburg-loccum', 'kasama', 'ravar', 'carutapera', 'roquetas de mar', 'santa maria', 'chatra', 'iwo', 'letlhakeng', 'nanortalik', 'liwonde', 'caucaia', 'hofn', 'scarborough', 'tumannyy', 'mineiros', 'cheuskiny', 'reconquista', 'yokadouma', 'vigo', 'araguacu', 'beira', 'aasiaat', 'ardakan', 'batticaloa', 'ambovombe', 'pavilosta', 'zelenogradsk', 'kruisfontein', 'nuuk', 'luderitz', 'niksar', 'doka', 'de aar', 'boden', 'ballina', 'ponta delgada', 'maarianhamina', 'saint-paul-les-dax', 'chokwe', 'dolni dabnik', 'oriximina', 'ouango', 'shaturtorf', 'aktash', 'qasigiannguit', 'grootfontein', 'umzimvubu', 'monrovia', 'oskarshamn', 'rabo de peixe', 'dhidhdhoo', 'bolshoye sorokino', 'artyom', 'sao mateus', 'rawson', 'scottsburgh', 'lasa', 'mahebourg', 'aleksandrov gay', 'obo', 'saint george', 'bandarbeyla', 'chuy', 'matara', 'wattegama', 'maceio', 'fowa', 'tombouctou', 'sisimiut', 'mahaicony', 'mehamn', 'raga', 'janauba', 'denia', 'saint anthony', 'margate', 'sinazongwe', 'gamba', 'tacoronte', 'muravlenko', 'joshimath', 'svetlogorsk', 'prainha', 'sur', 'porto seguro', 'saint-georges', 'qaqortoq', 'blagoyevo', 'svetlyy', 'port-gentil', 'saryshagan', 'moiyabana', 'dolores', 'gat', 'kindu', 'mullaitivu', 'puerto suarez', 'maloy', 'dikson', 'karasuk', 'algiers', 'suriapet', 'los llanos de aridane', 'asyut', 'surgut', 'marsabit', 'illoqqortoormiut', 'san lorenzo', 'ereymentau', 'bonthe', 'muli', 'kamenka', 'bilma', 'bhubaneswar', 'odweyne', 'mana', 'olinda', 'lagos', 'sitrah', 'boatlaname', 'manono', 'stykkisholmur', 'opuwo', 'timizart', 'rosetta', 'geilo', 'jumla', 'sao raimundo nonato', 'san bartolome de tirajana', 'menongue', 'pitimbu', 'aranos', 'kazalinsk', 'caarapo', 'yazd', 'pakwach', 'rocha', 'mwinilunga', 'talnakh', 'kavaratti', 'saint-francois', 'tabou', 'sambava', 'kuminskiy', 'mutoko', 'tsabong', 'samarkand', 'aleksandriyskaya', 'maloshuyka', 'vestmannaeyjar', 'visby', 'kuche', 'sinnamary', 'sao joao da barra', 'tansen', 'beinamar', 'saint-leu', 'mizpe ramon', 'sabha', 'dhangadhi', 'maldonado', 'kansanshi', 'soubre', 'usinsk', 'oussouye', 'longyearbyen', 'suksun', 'balsta', 'peniche', 'paradwip', 'nikolsk', 'bonfim', 'necochea', 'muscat', 'ozgon', 'marzuq', 'soria', 'itupiranga', 'shache', 'ankazobe', 'brcko', 'puri', 'alappuzha', 'thinadhoo', 'dudinka', 'paamiut', 'mahajanga', 'nouadhibou', 'krasnoarmeysk', 'jacareacanga', 'naryan-mar', 'cabedelo', 'ondjiva', 'ramgarh', 'assare', 'thaba-tseka', 'grasse', 'xilopolis', 'buraydah', 'point pedro', 'babanusah', 'juan lacaze', 'hornslet', 'puksoozero', 'goderich', 'banikoara', 'awbari', 'jadu', 'gnjilane', 'cascais', 'bossembele', 'jiblah', 'vishnyakovskiye dachi', 'oranjemund', 'buchanan', 'abu kamal', 'saint-pierre', 'sao felix do xingu', 'mahibadhoo', 'jinka', 'ocher', 'schattdorf', 'nioaque', 'warri', 'sompeta', 'herat', 'tatawin', 'barentsburg', 'saa', 'kaka', 'banda aceh', 'sao miguel dos campos', 'lucapa', 'belyy yar', 'monte alegre de sergipe', 'gobabis', 'honningsvag', 'chabahar', 'vestmanna', 'bhadravati', 'umm lajj', 'linguere', 'mizdah', 'brae', 'baneh', 'pithapuram', 'kalaleh', 'kulhudhuffushi', 'najran', 'azimur', 'vila velha', 'arkhangelsk', 'medzev', 'andenes', 'nouakchott', 'kotelnikovo', 'tuggurt', 'agadez', 'nabul', 'agirish', 'axim', 'mathathane', 'hambantota', 'kudahuvadhoo', 'yenagoa', 'zhezkazgan', 'grand gaube', 'krasnaya gorbatka', 'tsiroanomandidy', 'manyana', 'kikwit', 'perama', 'wamba', 'dzhusaly', 'machakos', 'mbacke', 'tabory', 'taruma', 'la massana', 'priverno', 'gravdal', 'stokmarknes', 'dzaoudzi', 'binika', 'ndende', 'hellin', 'bermeo', 'maniitsoq', 'villa florida', 'tanout', 'bejar', 'araouane', 'ratnapura', 'paracuru', 'birao', 'shubarkuduk', 'lephepe', 'shahreza', 'kaduqli', 'straseni', 'chinsali', 'campos belos', 'husavik', 'luanda', 'conakry', 'bucovice', 'chhabra', 'bershet', 'vryheid', 'koryazhma', 'bargal', 'paso de carrasco', 'nalut', 'oktyabrskoye', 'ithaki', 'kirkwall', 'netivot', 'zapolyarnyy', 'skalistyy', 'agva', 'port blair', 'wukari', 'tiebissou', 'bud', 'wanlaweyn', 'kidal', 'kathmandu', 'badvel', 'tiznit', 'zhukovo', 'crotone', 'dvinskoy', 'canico', 'kutum', 'borovoy', 'kangaatsiaq', 'santa cruz de tenerife', 'paranavai', 'pasvalys', 'mocambique', 'yekaterinogradskaya', 'aracati', 'penzance', 'zhanaozen', 'maralal', 'ilam', 'pietersburg', 'toropets', 'velsk', 'mormugao', 'alikalia', 'zheleznodorozhnyy', 'mayumba', 'kleive', 'ayagoz', 'vizinga', 'katastarion', 'barroquinha', 'marawi', 'havoysund', 'bouna', 'armacao dos buzios', 'altay', 'kifri', 'zarubino', 'shiraz', 'zherdevka', 'joacaba', 'kargasok', 'stornoway', 'waddan', 'kadoma', 'rundu', 'kragero', 'enniscorthy', 'aksay', 'cap malheureux', 'great yarmouth', 'bloemhof', 'morondava', 'bahar', 'farrukhnagar', 'wahran', 'lebyazhye', 'tyup', 'winneba', 'norden', 'gunjur', 'boali', 'boddam', 'bayji', 'ypsonas', 'ruwi', 'hjelset', 'wabana', 'sirari', 'bannu', 'jibuti', 'ouesso', 'gzhatsk', 'elbrus', 'koslan', 'impfondo', 'ginir', 'vytegra', 'synya', 'verkhne-katunskoye', 'kati', 'sabalgarh', 'igdir', 'durham', 'yuzhne', 'mirina', 'maine-soroa', 'katsiveli', 'qeshm', 'ormara', 'dhar', 'weligama', 'safaqis', 'lichinga', 'stockelsdorf', 'louisbourg', 'kargil', 'hobyo', 'verkhnyaya khava', 'rudnichnyy', 'odesa', 'larimna', 'kichmengskiy gorodok', 'mocuba', 'ferrol', 'marsa matruh', 'sosnogorsk', 'takoradi', 'ruthin', 'wagar', 'rafai', 'garango', 'wladyslawowo', 'luncavita', 'zuwarah', 'nyirvasvari', 'porbandar', 'oberndorf', 'khorixas', 'viedma']\n"
     ]
    }
   ],
   "source": [
    "print(\"Begin Data Retrieval\")\n",
    "print(\"------------------------\")\n",
    "print(cities)"
   ]
  },
  {
   "cell_type": "code",
   "execution_count": 60,
   "metadata": {
    "scrolled": true
   },
   "outputs": [
    {
     "name": "stdout",
     "output_type": "stream",
     "text": [
      "output_data/cities.csv\n"
     ]
    }
   ],
   "source": [
    "url = output_data_file\n",
    "print(url)"
   ]
  },
  {
   "cell_type": "code",
   "execution_count": 61,
   "metadata": {},
   "outputs": [
    {
     "ename": "MissingSchema",
     "evalue": "Invalid URL 'output_data/cities.csv': No schema supplied. Perhaps you meant http://output_data/cities.csv?",
     "output_type": "error",
     "traceback": [
      "\u001b[1;31m---------------------------------------------------------------------------\u001b[0m",
      "\u001b[1;31mMissingSchema\u001b[0m                             Traceback (most recent call last)",
      "\u001b[1;32m<ipython-input-61-2f259208fcab>\u001b[0m in \u001b[0;36m<module>\u001b[1;34m\u001b[0m\n\u001b[1;32m----> 1\u001b[1;33m \u001b[0mresponse\u001b[0m \u001b[1;33m=\u001b[0m \u001b[0mrequests\u001b[0m\u001b[1;33m.\u001b[0m\u001b[0mget\u001b[0m\u001b[1;33m(\u001b[0m\u001b[0murl\u001b[0m\u001b[1;33m)\u001b[0m\u001b[1;33m\u001b[0m\u001b[1;33m\u001b[0m\u001b[0m\n\u001b[0m\u001b[0;32m      2\u001b[0m \u001b[0mprint\u001b[0m\u001b[1;33m(\u001b[0m\u001b[0mresponse\u001b[0m\u001b[1;33m.\u001b[0m\u001b[0murl\u001b[0m\u001b[1;33m)\u001b[0m\u001b[1;33m\u001b[0m\u001b[1;33m\u001b[0m\u001b[0m\n",
      "\u001b[1;32m~\\anaconda3\\envs\\PythonData\\lib\\site-packages\\requests\\api.py\u001b[0m in \u001b[0;36mget\u001b[1;34m(url, params, **kwargs)\u001b[0m\n\u001b[0;32m     74\u001b[0m \u001b[1;33m\u001b[0m\u001b[0m\n\u001b[0;32m     75\u001b[0m     \u001b[0mkwargs\u001b[0m\u001b[1;33m.\u001b[0m\u001b[0msetdefault\u001b[0m\u001b[1;33m(\u001b[0m\u001b[1;34m'allow_redirects'\u001b[0m\u001b[1;33m,\u001b[0m \u001b[1;32mTrue\u001b[0m\u001b[1;33m)\u001b[0m\u001b[1;33m\u001b[0m\u001b[1;33m\u001b[0m\u001b[0m\n\u001b[1;32m---> 76\u001b[1;33m     \u001b[1;32mreturn\u001b[0m \u001b[0mrequest\u001b[0m\u001b[1;33m(\u001b[0m\u001b[1;34m'get'\u001b[0m\u001b[1;33m,\u001b[0m \u001b[0murl\u001b[0m\u001b[1;33m,\u001b[0m \u001b[0mparams\u001b[0m\u001b[1;33m=\u001b[0m\u001b[0mparams\u001b[0m\u001b[1;33m,\u001b[0m \u001b[1;33m**\u001b[0m\u001b[0mkwargs\u001b[0m\u001b[1;33m)\u001b[0m\u001b[1;33m\u001b[0m\u001b[1;33m\u001b[0m\u001b[0m\n\u001b[0m\u001b[0;32m     77\u001b[0m \u001b[1;33m\u001b[0m\u001b[0m\n\u001b[0;32m     78\u001b[0m \u001b[1;33m\u001b[0m\u001b[0m\n",
      "\u001b[1;32m~\\anaconda3\\envs\\PythonData\\lib\\site-packages\\requests\\api.py\u001b[0m in \u001b[0;36mrequest\u001b[1;34m(method, url, **kwargs)\u001b[0m\n\u001b[0;32m     59\u001b[0m     \u001b[1;31m# cases, and look like a memory leak in others.\u001b[0m\u001b[1;33m\u001b[0m\u001b[1;33m\u001b[0m\u001b[1;33m\u001b[0m\u001b[0m\n\u001b[0;32m     60\u001b[0m     \u001b[1;32mwith\u001b[0m \u001b[0msessions\u001b[0m\u001b[1;33m.\u001b[0m\u001b[0mSession\u001b[0m\u001b[1;33m(\u001b[0m\u001b[1;33m)\u001b[0m \u001b[1;32mas\u001b[0m \u001b[0msession\u001b[0m\u001b[1;33m:\u001b[0m\u001b[1;33m\u001b[0m\u001b[1;33m\u001b[0m\u001b[0m\n\u001b[1;32m---> 61\u001b[1;33m         \u001b[1;32mreturn\u001b[0m \u001b[0msession\u001b[0m\u001b[1;33m.\u001b[0m\u001b[0mrequest\u001b[0m\u001b[1;33m(\u001b[0m\u001b[0mmethod\u001b[0m\u001b[1;33m=\u001b[0m\u001b[0mmethod\u001b[0m\u001b[1;33m,\u001b[0m \u001b[0murl\u001b[0m\u001b[1;33m=\u001b[0m\u001b[0murl\u001b[0m\u001b[1;33m,\u001b[0m \u001b[1;33m**\u001b[0m\u001b[0mkwargs\u001b[0m\u001b[1;33m)\u001b[0m\u001b[1;33m\u001b[0m\u001b[1;33m\u001b[0m\u001b[0m\n\u001b[0m\u001b[0;32m     62\u001b[0m \u001b[1;33m\u001b[0m\u001b[0m\n\u001b[0;32m     63\u001b[0m \u001b[1;33m\u001b[0m\u001b[0m\n",
      "\u001b[1;32m~\\anaconda3\\envs\\PythonData\\lib\\site-packages\\requests\\sessions.py\u001b[0m in \u001b[0;36mrequest\u001b[1;34m(self, method, url, params, data, headers, cookies, files, auth, timeout, allow_redirects, proxies, hooks, stream, verify, cert, json)\u001b[0m\n\u001b[0;32m    514\u001b[0m             \u001b[0mhooks\u001b[0m\u001b[1;33m=\u001b[0m\u001b[0mhooks\u001b[0m\u001b[1;33m,\u001b[0m\u001b[1;33m\u001b[0m\u001b[1;33m\u001b[0m\u001b[0m\n\u001b[0;32m    515\u001b[0m         )\n\u001b[1;32m--> 516\u001b[1;33m         \u001b[0mprep\u001b[0m \u001b[1;33m=\u001b[0m \u001b[0mself\u001b[0m\u001b[1;33m.\u001b[0m\u001b[0mprepare_request\u001b[0m\u001b[1;33m(\u001b[0m\u001b[0mreq\u001b[0m\u001b[1;33m)\u001b[0m\u001b[1;33m\u001b[0m\u001b[1;33m\u001b[0m\u001b[0m\n\u001b[0m\u001b[0;32m    517\u001b[0m \u001b[1;33m\u001b[0m\u001b[0m\n\u001b[0;32m    518\u001b[0m         \u001b[0mproxies\u001b[0m \u001b[1;33m=\u001b[0m \u001b[0mproxies\u001b[0m \u001b[1;32mor\u001b[0m \u001b[1;33m{\u001b[0m\u001b[1;33m}\u001b[0m\u001b[1;33m\u001b[0m\u001b[1;33m\u001b[0m\u001b[0m\n",
      "\u001b[1;32m~\\anaconda3\\envs\\PythonData\\lib\\site-packages\\requests\\sessions.py\u001b[0m in \u001b[0;36mprepare_request\u001b[1;34m(self, request)\u001b[0m\n\u001b[0;32m    447\u001b[0m \u001b[1;33m\u001b[0m\u001b[0m\n\u001b[0;32m    448\u001b[0m         \u001b[0mp\u001b[0m \u001b[1;33m=\u001b[0m \u001b[0mPreparedRequest\u001b[0m\u001b[1;33m(\u001b[0m\u001b[1;33m)\u001b[0m\u001b[1;33m\u001b[0m\u001b[1;33m\u001b[0m\u001b[0m\n\u001b[1;32m--> 449\u001b[1;33m         p.prepare(\n\u001b[0m\u001b[0;32m    450\u001b[0m             \u001b[0mmethod\u001b[0m\u001b[1;33m=\u001b[0m\u001b[0mrequest\u001b[0m\u001b[1;33m.\u001b[0m\u001b[0mmethod\u001b[0m\u001b[1;33m.\u001b[0m\u001b[0mupper\u001b[0m\u001b[1;33m(\u001b[0m\u001b[1;33m)\u001b[0m\u001b[1;33m,\u001b[0m\u001b[1;33m\u001b[0m\u001b[1;33m\u001b[0m\u001b[0m\n\u001b[0;32m    451\u001b[0m             \u001b[0murl\u001b[0m\u001b[1;33m=\u001b[0m\u001b[0mrequest\u001b[0m\u001b[1;33m.\u001b[0m\u001b[0murl\u001b[0m\u001b[1;33m,\u001b[0m\u001b[1;33m\u001b[0m\u001b[1;33m\u001b[0m\u001b[0m\n",
      "\u001b[1;32m~\\anaconda3\\envs\\PythonData\\lib\\site-packages\\requests\\models.py\u001b[0m in \u001b[0;36mprepare\u001b[1;34m(self, method, url, headers, files, data, params, auth, cookies, hooks, json)\u001b[0m\n\u001b[0;32m    312\u001b[0m \u001b[1;33m\u001b[0m\u001b[0m\n\u001b[0;32m    313\u001b[0m         \u001b[0mself\u001b[0m\u001b[1;33m.\u001b[0m\u001b[0mprepare_method\u001b[0m\u001b[1;33m(\u001b[0m\u001b[0mmethod\u001b[0m\u001b[1;33m)\u001b[0m\u001b[1;33m\u001b[0m\u001b[1;33m\u001b[0m\u001b[0m\n\u001b[1;32m--> 314\u001b[1;33m         \u001b[0mself\u001b[0m\u001b[1;33m.\u001b[0m\u001b[0mprepare_url\u001b[0m\u001b[1;33m(\u001b[0m\u001b[0murl\u001b[0m\u001b[1;33m,\u001b[0m \u001b[0mparams\u001b[0m\u001b[1;33m)\u001b[0m\u001b[1;33m\u001b[0m\u001b[1;33m\u001b[0m\u001b[0m\n\u001b[0m\u001b[0;32m    315\u001b[0m         \u001b[0mself\u001b[0m\u001b[1;33m.\u001b[0m\u001b[0mprepare_headers\u001b[0m\u001b[1;33m(\u001b[0m\u001b[0mheaders\u001b[0m\u001b[1;33m)\u001b[0m\u001b[1;33m\u001b[0m\u001b[1;33m\u001b[0m\u001b[0m\n\u001b[0;32m    316\u001b[0m         \u001b[0mself\u001b[0m\u001b[1;33m.\u001b[0m\u001b[0mprepare_cookies\u001b[0m\u001b[1;33m(\u001b[0m\u001b[0mcookies\u001b[0m\u001b[1;33m)\u001b[0m\u001b[1;33m\u001b[0m\u001b[1;33m\u001b[0m\u001b[0m\n",
      "\u001b[1;32m~\\anaconda3\\envs\\PythonData\\lib\\site-packages\\requests\\models.py\u001b[0m in \u001b[0;36mprepare_url\u001b[1;34m(self, url, params)\u001b[0m\n\u001b[0;32m    386\u001b[0m             \u001b[0merror\u001b[0m \u001b[1;33m=\u001b[0m \u001b[0merror\u001b[0m\u001b[1;33m.\u001b[0m\u001b[0mformat\u001b[0m\u001b[1;33m(\u001b[0m\u001b[0mto_native_string\u001b[0m\u001b[1;33m(\u001b[0m\u001b[0murl\u001b[0m\u001b[1;33m,\u001b[0m \u001b[1;34m'utf8'\u001b[0m\u001b[1;33m)\u001b[0m\u001b[1;33m)\u001b[0m\u001b[1;33m\u001b[0m\u001b[1;33m\u001b[0m\u001b[0m\n\u001b[0;32m    387\u001b[0m \u001b[1;33m\u001b[0m\u001b[0m\n\u001b[1;32m--> 388\u001b[1;33m             \u001b[1;32mraise\u001b[0m \u001b[0mMissingSchema\u001b[0m\u001b[1;33m(\u001b[0m\u001b[0merror\u001b[0m\u001b[1;33m)\u001b[0m\u001b[1;33m\u001b[0m\u001b[1;33m\u001b[0m\u001b[0m\n\u001b[0m\u001b[0;32m    389\u001b[0m \u001b[1;33m\u001b[0m\u001b[0m\n\u001b[0;32m    390\u001b[0m         \u001b[1;32mif\u001b[0m \u001b[1;32mnot\u001b[0m \u001b[0mhost\u001b[0m\u001b[1;33m:\u001b[0m\u001b[1;33m\u001b[0m\u001b[1;33m\u001b[0m\u001b[0m\n",
      "\u001b[1;31mMissingSchema\u001b[0m: Invalid URL 'output_data/cities.csv': No schema supplied. Perhaps you meant http://output_data/cities.csv?"
     ]
    }
   ],
   "source": [
    "response = requests.get(url)\n",
    "print(response.url)"
   ]
  },
  {
   "cell_type": "code",
   "execution_count": 56,
   "metadata": {},
   "outputs": [
    {
     "ename": "NameError",
     "evalue": "name 'response' is not defined",
     "output_type": "error",
     "traceback": [
      "\u001b[1;31m---------------------------------------------------------------------------\u001b[0m",
      "\u001b[1;31mNameError\u001b[0m                                 Traceback (most recent call last)",
      "\u001b[1;32m<ipython-input-56-b334b732e8f2>\u001b[0m in \u001b[0;36m<module>\u001b[1;34m\u001b[0m\n\u001b[1;32m----> 1\u001b[1;33m \u001b[0mdata\u001b[0m \u001b[1;33m=\u001b[0m \u001b[0mresponse\u001b[0m\u001b[1;33m.\u001b[0m\u001b[0mjson\u001b[0m\u001b[1;33m(\u001b[0m\u001b[1;33m)\u001b[0m\u001b[1;33m\u001b[0m\u001b[1;33m\u001b[0m\u001b[0m\n\u001b[0m\u001b[0;32m      2\u001b[0m \u001b[0mprint\u001b[0m\u001b[1;33m(\u001b[0m\u001b[0mjson\u001b[0m\u001b[1;33m.\u001b[0m\u001b[0mdumps\u001b[0m\u001b[1;33m(\u001b[0m\u001b[0mdata\u001b[0m\u001b[1;33m,\u001b[0m \u001b[0mindent\u001b[0m\u001b[1;33m=\u001b[0m\u001b[1;36m4\u001b[0m\u001b[1;33m,\u001b[0m \u001b[0msort_keys\u001b[0m\u001b[1;33m=\u001b[0m\u001b[1;32mTrue\u001b[0m\u001b[1;33m)\u001b[0m\u001b[1;33m)\u001b[0m\u001b[1;33m\u001b[0m\u001b[1;33m\u001b[0m\u001b[0m\n",
      "\u001b[1;31mNameError\u001b[0m: name 'response' is not defined"
     ]
    }
   ],
   "source": [
    "data = response.json()\n",
    "print(json.dumps(data, indent=4, sort_keys=True))\n"
   ]
  },
  {
   "cell_type": "code",
   "execution_count": 57,
   "metadata": {},
   "outputs": [
    {
     "ename": "NameError",
     "evalue": "name 'data' is not defined",
     "output_type": "error",
     "traceback": [
      "\u001b[1;31m---------------------------------------------------------------------------\u001b[0m",
      "\u001b[1;31mNameError\u001b[0m                                 Traceback (most recent call last)",
      "\u001b[1;32m<ipython-input-57-e1ee0e5a3c6d>\u001b[0m in \u001b[0;36m<module>\u001b[1;34m\u001b[0m\n\u001b[1;32m----> 1\u001b[1;33m \u001b[0mfirst_ship_url\u001b[0m \u001b[1;33m=\u001b[0m \u001b[0mdata\u001b[0m\u001b[1;33m[\u001b[0m\u001b[1;34m\"starships\"\u001b[0m\u001b[1;33m]\u001b[0m\u001b[1;33m[\u001b[0m\u001b[1;36m0\u001b[0m\u001b[1;33m]\u001b[0m\u001b[1;33m\u001b[0m\u001b[1;33m\u001b[0m\u001b[0m\n\u001b[0m\u001b[0;32m      2\u001b[0m \u001b[0mship_response\u001b[0m \u001b[1;33m=\u001b[0m \u001b[0mrequests\u001b[0m\u001b[1;33m.\u001b[0m\u001b[0mget\u001b[0m\u001b[1;33m(\u001b[0m\u001b[0mfirst_ship_url\u001b[0m\u001b[1;33m)\u001b[0m\u001b[1;33m.\u001b[0m\u001b[0mjson\u001b[0m\u001b[1;33m(\u001b[0m\u001b[1;33m)\u001b[0m\u001b[1;33m\u001b[0m\u001b[1;33m\u001b[0m\u001b[0m\n\u001b[0;32m      3\u001b[0m \u001b[0mship_response\u001b[0m\u001b[1;33m\u001b[0m\u001b[1;33m\u001b[0m\u001b[0m\n",
      "\u001b[1;31mNameError\u001b[0m: name 'data' is not defined"
     ]
    }
   ],
   "source": [
    "first_ship_url = data[\"starships\"][0]\n",
    "ship_response = requests.get(first_ship_url).json()\n",
    "ship_response"
   ]
  },
  {
   "cell_type": "code",
   "execution_count": null,
   "metadata": {},
   "outputs": [],
   "source": []
  }
 ],
 "metadata": {
  "kernelspec": {
   "display_name": "Python 3",
   "language": "python",
   "name": "python3"
  },
  "language_info": {
   "codemirror_mode": {
    "name": "ipython",
    "version": 3
   },
   "file_extension": ".py",
   "mimetype": "text/x-python",
   "name": "python",
   "nbconvert_exporter": "python",
   "pygments_lexer": "ipython3",
   "version": "3.8.5"
  }
 },
 "nbformat": 4,
 "nbformat_minor": 4
}
